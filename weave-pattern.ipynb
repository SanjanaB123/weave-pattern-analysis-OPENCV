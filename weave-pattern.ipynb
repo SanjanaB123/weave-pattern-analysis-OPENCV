{
 "cells": [
  {
   "cell_type": "code",
   "execution_count": null,
   "id": "6fc2e409",
   "metadata": {},
   "outputs": [],
   "source": [
    "import cv2\n",
    "import numpy as np\n",
    "from PIL import Image, ImageDraw"
   ]
  },
  {
   "cell_type": "markdown",
   "id": "b1b8667c",
   "metadata": {},
   "source": [
    "# generate a weave pattern red and white"
   ]
  },
  {
   "cell_type": "code",
   "execution_count": 46,
   "id": "8c76bcd1",
   "metadata": {},
   "outputs": [],
   "source": [
    "def generate_weave_pattern(width, height, num_threads_horizontal, num_threads_vertical, thread_color, background_color, thread_width, thread_distance, thread_shape, thread_layout):\n",
    "    # Create a blank image with the specified width and height\n",
    "    img = Image.new('RGBA', (width, height), background_color)\n",
    "    draw = ImageDraw.Draw(img)\n",
    "\n",
    "    # Calculate the gap between threads based on the distance\n",
    "    horizontal_gap = thread_distance + thread_width\n",
    "    vertical_gap = thread_distance + thread_width\n",
    "\n",
    "    # Draw the horizontal threads\n",
    "    for i in range(1, num_threads_horizontal):\n",
    "        for j in range(num_threads_vertical):\n",
    "            x_start = i * horizontal_gap\n",
    "            y_start = j * vertical_gap\n",
    "\n",
    "            if thread_layout == 'cubic_spline':\n",
    "                pass\n",
    "            else:\n",
    "                # Draw straight thread\n",
    "                draw.rectangle([(x_start, y_start), (x_start + thread_width, y_start + height)], fill=thread_color)\n",
    "\n",
    "    # Draw the vertical threads\n",
    "    for j in range(1, num_threads_vertical):\n",
    "        for i in range(num_threads_horizontal):\n",
    "            x_start = i * horizontal_gap\n",
    "            y_start = j * vertical_gap\n",
    "\n",
    "            if thread_layout == 'cubic_spline':\n",
    "                pass\n",
    "            else:\n",
    "                draw.rectangle([(x_start, y_start), (x_start + width, y_start + thread_width)], fill=thread_color)\n",
    "\n",
    "    return img\n",
    "\n",
    "\n",
    "weave_pattern = generate_weave_pattern(\n",
    "    width=1800,\n",
    "    height=1600,\n",
    "    num_threads_horizontal=6,\n",
    "    num_threads_vertical=5,\n",
    "    thread_color=(255, 0, 0, 128),  # red\n",
    "    background_color=(255, 255, 255, 255),  # White background\n",
    "    thread_width=100,\n",
    "    thread_distance=200,\n",
    "    thread_shape='straight',\n",
    "    thread_layout='simple'\n",
    ")\n",
    "\n",
    "weave_pattern.save('weave_pattern.png')\n"
   ]
  },
  {
   "cell_type": "markdown",
   "id": "e7244248",
   "metadata": {},
   "source": [
    "# edge detection"
   ]
  },
  {
   "cell_type": "code",
   "execution_count": 60,
   "id": "1e5b86ad",
   "metadata": {},
   "outputs": [],
   "source": [
    "def process_weave_pattern(weave_image):\n",
    "    \n",
    "    weave_cv = cv2.cvtColor(np.array(weave_image), cv2.COLOR_RGBA2BGR)\n",
    "    gray = cv2.cvtColor(weave_cv, cv2.COLOR_BGR2GRAY)\n",
    "    img_blur = cv2.GaussianBlur(img_gray, (3,3), 0) \n",
    "\n",
    "    # Apply Canny edge detection\n",
    "    edges = cv2.Canny(image=img_blur, threshold1=100, threshold2=200)\n",
    "\n",
    "    edges_pil = Image.fromarray(edges)\n",
    "    edges_pil.save('weave_edges.png')\n",
    "\n",
    "    return edges\n",
    "    \n",
    "\n",
    "weave_pattern = Image.open('weave_pattern.png')\n",
    "\n",
    "processed_image = process_weave_pattern(weave_pattern)"
   ]
  },
  {
   "cell_type": "markdown",
   "id": "b7254a0d",
   "metadata": {},
   "source": [
    "# dots at intersection points"
   ]
  },
  {
   "cell_type": "code",
   "execution_count": 55,
   "id": "dd650704",
   "metadata": {},
   "outputs": [],
   "source": [
    "def add_dots_to_weave_pattern(weave_pattern_img, num_threads_horizontal, num_threads_vertical, thread_width, thread_distance):\n",
    "    draw = ImageDraw.Draw(weave_pattern_img)\n",
    "\n",
    "    # Calculate the gap between threads based on the distance\n",
    "    horizontal_gap = thread_distance + thread_width\n",
    "    vertical_gap = thread_distance + thread_width\n",
    "\n",
    "    # Draw dots at the center of intersection points\n",
    "    for i in range(1, num_threads_horizontal):\n",
    "        for j in range(1, num_threads_vertical):\n",
    "            x_start = i * horizontal_gap\n",
    "            y_start = j * vertical_gap\n",
    "\n",
    "            draw.ellipse((x_start + thread_width // 2 - 10, y_start + thread_width // 2 - 10, x_start + thread_width // 2 + 10, y_start + thread_width // 2 + 10), fill=(0, 0, 0, 255))\n",
    "\n",
    "    return weave_pattern_img\n",
    "\n",
    "weave_pattern = Image.open('weave_pattern.png')\n",
    "\n",
    "weave_pattern_with_dots = add_dots_to_weave_pattern(\n",
    "    weave_pattern,\n",
    "    num_threads_horizontal=6,\n",
    "    num_threads_vertical=5,\n",
    "    thread_width=100,\n",
    "    thread_distance=200\n",
    ")\n",
    "\n",
    "weave_pattern_with_dots.save('weave_pattern_with_dots.png')\n"
   ]
  },
  {
   "cell_type": "markdown",
   "id": "7a989383",
   "metadata": {},
   "source": [
    "# line through center"
   ]
  },
  {
   "cell_type": "code",
   "execution_count": 61,
   "id": "c5ad6856",
   "metadata": {},
   "outputs": [],
   "source": [
    "def mark_center_of_threads(image, num_threads_horizontal, num_threads_vertical, thread_width, thread_distance):\n",
    "    draw = ImageDraw.Draw(image)\n",
    "\n",
    "    horizontal_gap = thread_distance + thread_width\n",
    "    vertical_gap = thread_distance + thread_width\n",
    "\n",
    "    # Mark the center of the vertical threads with lines\n",
    "    for i in range(num_threads_horizontal):\n",
    "        x_start = i * horizontal_gap\n",
    "        y_start = 0\n",
    "        y_end = image.height\n",
    "\n",
    "        center_x = x_start + thread_width // 2\n",
    "        draw.line([(center_x, y_start), (center_x, y_end)], fill=(0, 0, 0), width=2)\n",
    "\n",
    "    # Mark the center of the horizontal threads with lines\n",
    "    for j in range(num_threads_vertical):\n",
    "        y_start = j * vertical_gap\n",
    "        x_start = 0\n",
    "        x_end = image.width\n",
    "\n",
    "        center_y = y_start + thread_width // 2\n",
    "        draw.line([(x_start, center_y), (x_end, center_y)], fill=(0, 0, 0), width=2)\n",
    "\n",
    "    return image\n",
    "\n",
    "\n",
    "weave_pattern = Image.open('weave_pattern.png')\n",
    "\n",
    "weave_pattern_with_lines = mark_center_of_threads(\n",
    "    weave_pattern,\n",
    "    num_threads_horizontal=6,\n",
    "    num_threads_vertical=5,\n",
    "    thread_width=100,\n",
    "    thread_distance=200\n",
    ")\n",
    "\n",
    "weave_pattern_with_lines.save('weave_pattern_with_lines.png')\n"
   ]
  },
  {
   "cell_type": "code",
   "execution_count": null,
   "id": "18673830",
   "metadata": {},
   "outputs": [],
   "source": []
  }
 ],
 "metadata": {
  "kernelspec": {
   "display_name": "Python 3 (ipykernel)",
   "language": "python",
   "name": "python3"
  },
  "language_info": {
   "codemirror_mode": {
    "name": "ipython",
    "version": 3
   },
   "file_extension": ".py",
   "mimetype": "text/x-python",
   "name": "python",
   "nbconvert_exporter": "python",
   "pygments_lexer": "ipython3",
   "version": "3.9.13"
  }
 },
 "nbformat": 4,
 "nbformat_minor": 5
}
